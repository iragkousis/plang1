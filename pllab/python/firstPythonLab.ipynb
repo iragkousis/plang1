{
 "cells": [
  {
   "cell_type": "markdown",
   "metadata": {},
   "source": [
    "## Πράξεις στην python\n",
    "\n",
    "- Η ακέραια διαίρεση σητν python μεταξύ πραγματικών δίνει πόσες ακεραίες φορές χωράει ο διαιρέτης στον διαιρετέο και επιστρέφει την ακέραια τιμή σε πραγματικό\n",
    "- Το mode (το σύμβολο %) κάνει το ίδιο. \n",
    "- To true θα το δει για 1 και θα μπορεί να το προσθέσει με άλλους αριθμούς\n"
   ]
  },
  {
   "cell_type": "code",
   "execution_count": 10,
   "metadata": {},
   "outputs": [
    {
     "data": {
      "text/plain": [
       "True"
      ]
     },
     "execution_count": 10,
     "metadata": {},
     "output_type": "execute_result"
    }
   ],
   "source": [
    "42 == 42\n"
   ]
  },
  {
   "cell_type": "markdown",
   "metadata": {},
   "source": [
    "## String στην Python\n",
    "- Έχει multiline string και μπορείς να χρησιμοποιείς μονά αυτάκια όχι μόνο διπλά \n",
    "- Το op + δεν είναι υπερφορτωμένο στην python για τα strings\n",
    "- Το op * είναι και με ακέραιο τυπώνει τόσες φορές το string (πρέπει το ένα input να είναι ακέραιος αριθμός)"
   ]
  },
  {
   "cell_type": "code",
   "execution_count": 12,
   "metadata": {},
   "outputs": [
    {
     "data": {
      "text/plain": [
       "'hello \\n\\n\\nworld'"
      ]
     },
     "execution_count": 12,
     "metadata": {},
     "output_type": "execute_result"
    }
   ],
   "source": [
    "'''hello \n",
    "\n",
    "\n",
    "world'''"
   ]
  },
  {
   "cell_type": "code",
   "execution_count": 15,
   "metadata": {},
   "outputs": [
    {
     "data": {
      "text/plain": [
       "'Hello world Hello world Hello world Hello world Hello world '"
      ]
     },
     "execution_count": 15,
     "metadata": {},
     "output_type": "execute_result"
    }
   ],
   "source": [
    "'Hello world ' * 5"
   ]
  },
  {
   "cell_type": "markdown",
   "metadata": {},
   "source": [
    "## Typecasting\n",
    "- Υπάρχει η δυνατότητα να μετατρέψουμε string σε αριθμούς αν αυτά αποτελούνται μόνο από τον αριθμό που είναι αποθηκευμένος."
   ]
  },
  {
   "cell_type": "code",
   "execution_count": 3,
   "metadata": {},
   "outputs": [],
   "source": [
    "int=(\"41234\")"
   ]
  },
  {
   "cell_type": "markdown",
   "metadata": {},
   "source": [
    "## Επαναληψη στην python\n",
    "- Τα πρώτα παραδείγματα είναι ο προφανής τρόπος\n",
    "- βλέπουμε  παρακάτω βήματα"
   ]
  },
  {
   "cell_type": "code",
   "execution_count": 8,
   "metadata": {},
   "outputs": [
    {
     "name": "stdout",
     "output_type": "stream",
     "text": [
      "0\n",
      "2\n",
      "4\n"
     ]
    }
   ],
   "source": [
    "for i in (0,2,4):\n",
    "    print(i)    "
   ]
  },
  {
   "cell_type": "code",
   "execution_count": 14,
   "metadata": {},
   "outputs": [
    {
     "name": "stdout",
     "output_type": "stream",
     "text": [
      "0 1 2 3 4 5 6 7 8 9 "
     ]
    }
   ],
   "source": [
    "for i in range(10):\n",
    "    print(i, end = ' ')"
   ]
  },
  {
   "cell_type": "code",
   "execution_count": 13,
   "metadata": {},
   "outputs": [
    {
     "name": "stdout",
     "output_type": "stream",
     "text": [
      "5 6 7 8 9 "
     ]
    }
   ],
   "source": [
    "for i in range(5,10):\n",
    "    print(i, end = ' ')"
   ]
  },
  {
   "cell_type": "code",
   "execution_count": 16,
   "metadata": {},
   "outputs": [
    {
     "name": "stdout",
     "output_type": "stream",
     "text": [
      "5 7 9 11 13 15 "
     ]
    }
   ],
   "source": [
    "for i in range(5, 17):\n",
    "    if i%2==1:\n",
    "        print(i, end = ' ')"
   ]
  },
  {
   "cell_type": "markdown",
   "metadata": {},
   "source": [
    "- Έδω βλέπουμε πως λειτουργεί το range με βήμα στο στην τρίτη κρυφή μεταβλητή της συνάρτησης "
   ]
  },
  {
   "cell_type": "code",
   "execution_count": 18,
   "metadata": {},
   "outputs": [
    {
     "name": "stdout",
     "output_type": "stream",
     "text": [
      "17 21 25 29 33 37 41 "
     ]
    }
   ],
   "source": [
    "for i in range(17, 42, 4):\n",
    "    print(i, end = ' ')"
   ]
  },
  {
   "cell_type": "markdown",
   "metadata": {},
   "source": [
    "- Whitespace in python is part of the grammar. Compared to C/C++ which ignores whitespaces and looks for semicolumn the syntaxes are affected by whitespace"
   ]
  },
  {
   "cell_type": "code",
   "execution_count": 20,
   "metadata": {},
   "outputs": [
    {
     "name": "stdout",
     "output_type": "stream",
     "text": [
      "17 I am stopping here\n",
      "21 I am stopping here\n",
      "25 I am stopping here\n",
      "29 I am stopping here\n",
      "33 I am stopping here\n",
      "37 I am stopping here\n",
      "41 I am stopping here\n"
     ]
    }
   ],
   "source": [
    "for i in range(17, 42, 4):\n",
    "    print(i, end = ' ')\n",
    "    print(\"I am stopping here\")"
   ]
  },
  {
   "cell_type": "code",
   "execution_count": 21,
   "metadata": {},
   "outputs": [
    {
     "name": "stdout",
     "output_type": "stream",
     "text": [
      "17 21 25 29 33 37 41 I am stopping here\n"
     ]
    }
   ],
   "source": [
    "for i in range(17, 42, 4):\n",
    "    print(i, end = ' ')\n",
    "print(\"I am stopping here\")"
   ]
  },
  {
   "cell_type": "code",
   "execution_count": 22,
   "metadata": {},
   "outputs": [
    {
     "name": "stdout",
     "output_type": "stream",
     "text": [
      "17 21 25 29 33 37 41 I am stopping here\n"
     ]
    }
   ],
   "source": [
    "for i in range(17, 42, 4): print(i, end = ' ')\n",
    "print(\"I am stopping here\")"
   ]
  },
  {
   "cell_type": "markdown",
   "metadata": {},
   "source": [
    "# Ποτέ tabs στην python!!! Πάντα spaces "
   ]
  },
  {
   "cell_type": "markdown",
   "metadata": {},
   "source": [
    "## Μεταβλητές στο notebook"
   ]
  },
  {
   "cell_type": "code",
   "execution_count": 24,
   "metadata": {},
   "outputs": [],
   "source": [
    "a = 42"
   ]
  },
  {
   "cell_type": "code",
   "execution_count": 25,
   "metadata": {},
   "outputs": [
    {
     "data": {
      "text/plain": [
       "42"
      ]
     },
     "execution_count": 25,
     "metadata": {},
     "output_type": "execute_result"
    }
   ],
   "source": [
    "a"
   ]
  },
  {
   "cell_type": "markdown",
   "metadata": {},
   "source": [
    "- και αυτό επιτρέπεται"
   ]
  },
  {
   "cell_type": "code",
   "execution_count": 27,
   "metadata": {},
   "outputs": [],
   "source": [
    "a=b=42"
   ]
  },
  {
   "cell_type": "markdown",
   "metadata": {},
   "source": [
    "- αλλά και αυτό"
   ]
  },
  {
   "cell_type": "code",
   "execution_count": 29,
   "metadata": {},
   "outputs": [
    {
     "name": "stdout",
     "output_type": "stream",
     "text": [
      "42 17\n"
     ]
    }
   ],
   "source": [
    "a, b = 42, 17\n",
    "print(a, b)"
   ]
  },
  {
   "cell_type": "markdown",
   "metadata": {},
   "source": [
    "- επίσης τα swaps λειτουργούν κανονικά"
   ]
  },
  {
   "cell_type": "code",
   "execution_count": 30,
   "metadata": {},
   "outputs": [
    {
     "name": "stdout",
     "output_type": "stream",
     "text": [
      "17 42\n"
     ]
    }
   ],
   "source": [
    "a, b = b, a\n",
    "print(a,b)"
   ]
  },
  {
   "cell_type": "markdown",
   "metadata": {},
   "source": [
    "## Συναρτήσεις"
   ]
  },
  {
   "cell_type": "code",
   "execution_count": 32,
   "metadata": {},
   "outputs": [],
   "source": [
    "def fact(n):\n",
    "    if n ==0: return 1\n",
    "    else: return n * fact(n-1)"
   ]
  },
  {
   "cell_type": "code",
   "execution_count": 33,
   "metadata": {},
   "outputs": [
    {
     "data": {
      "text/plain": [
       "362880"
      ]
     },
     "execution_count": 33,
     "metadata": {},
     "output_type": "execute_result"
    }
   ],
   "source": [
    "fact(9)"
   ]
  },
  {
   "cell_type": "code",
   "execution_count": 35,
   "metadata": {},
   "outputs": [],
   "source": [
    "def fib(n):\n",
    "    if n == 0: return 0\n",
    "    a, b = 0, 1\n",
    "    for i in range(n-1):\n",
    "        c = a + b\n",
    "        a,b = b, c \n",
    "    return b"
   ]
  },
  {
   "cell_type": "code",
   "execution_count": 37,
   "metadata": {},
   "outputs": [
    {
     "data": {
      "text/plain": [
       "267914296"
      ]
     },
     "execution_count": 37,
     "metadata": {},
     "output_type": "execute_result"
    }
   ],
   "source": [
    "fib(42)"
   ]
  },
  {
   "cell_type": "code",
   "execution_count": 38,
   "metadata": {},
   "outputs": [],
   "source": [
    "def fibGen(n, start_a, start_b):\n",
    "    if n == 0: return start_a\n",
    "    a, b = start_a, start_b\n",
    "    for i in range(n-1):\n",
    "        c = a + b\n",
    "        a,b = b, c \n",
    "    return b"
   ]
  },
  {
   "cell_type": "code",
   "execution_count": 39,
   "metadata": {},
   "outputs": [
    {
     "data": {
      "text/plain": [
       "14"
      ]
     },
     "execution_count": 39,
     "metadata": {},
     "output_type": "execute_result"
    }
   ],
   "source": [
    "fibGen(3, 4, 5)"
   ]
  },
  {
   "cell_type": "code",
   "execution_count": 42,
   "metadata": {},
   "outputs": [],
   "source": [
    "def fibDefault(n, start_a = 0, start_b = 1):\n",
    "    if n == 0: return start_a\n",
    "    a, b = start_a, start_b\n",
    "    for i in range(n-1):\n",
    "        c = a + b\n",
    "        a,b = b, c \n",
    "    return b"
   ]
  },
  {
   "cell_type": "code",
   "execution_count": 45,
   "metadata": {},
   "outputs": [
    {
     "data": {
      "text/plain": [
       "357"
      ]
     },
     "execution_count": 45,
     "metadata": {},
     "output_type": "execute_result"
    }
   ],
   "source": [
    "fibDefault(8, start_b = 17)"
   ]
  },
  {
   "cell_type": "markdown",
   "metadata": {},
   "source": [
    "- μπορώ να δηλώσω και κάποιες από τις μεταβλητές εισόδου με default τιμές \n",
    "- Αλλά επίσης μπορώ να τις επικαλέστω με διαφορετική σειρά από αυτήν που δίνονται στο όρισμα της συνάρτησης, δεδομένου ότι θα δώσω τις τιμές που θέλω συγκεκριμένα στα ονόματα τους"
   ]
  },
  {
   "cell_type": "code",
   "execution_count": 46,
   "metadata": {},
   "outputs": [
    {
     "data": {
      "text/plain": [
       "903"
      ]
     },
     "execution_count": 46,
     "metadata": {},
     "output_type": "execute_result"
    }
   ],
   "source": [
    "fibDefault(start_b=17, n=8, start_a=42)"
   ]
  },
  {
   "cell_type": "markdown",
   "metadata": {},
   "source": [
    "### Python is such a beautiful and powerful mess :P\n",
    "- η παρακάτω υλοποιήση φτιάχνει μέχρι τον αμέσως επόμενο από την είσοδο n σε σχέση με το b"
   ]
  },
  {
   "cell_type": "code",
   "execution_count": 48,
   "metadata": {},
   "outputs": [],
   "source": [
    "def fib_gt(n, start_a=0, start_b=1):\n",
    "    if n == 0: return start_a \n",
    "    a, b = start_a, start_b\n",
    "    while b<=n:\n",
    "        c = a + b\n",
    "        a, b = b, c\n",
    "    return b"
   ]
  },
  {
   "cell_type": "code",
   "execution_count": 49,
   "metadata": {},
   "outputs": [
    {
     "data": {
      "text/plain": [
       "21"
      ]
     },
     "execution_count": 49,
     "metadata": {},
     "output_type": "execute_result"
    }
   ],
   "source": [
    "fib_gt(13)"
   ]
  },
  {
   "cell_type": "markdown",
   "metadata": {},
   "source": [
    "## Variable name scopes in python"
   ]
  },
  {
   "cell_type": "code",
   "execution_count": 52,
   "metadata": {},
   "outputs": [
    {
     "name": "stdout",
     "output_type": "stream",
     "text": [
      "42\n",
      "42\n"
     ]
    }
   ],
   "source": [
    "a = 42 \n",
    "\n",
    "def reasonable():\n",
    "    print(a)\n",
    "\n",
    "reasonable()\n",
    "print(a)"
   ]
  },
  {
   "cell_type": "code",
   "execution_count": 53,
   "metadata": {},
   "outputs": [
    {
     "name": "stdout",
     "output_type": "stream",
     "text": [
      "42\n",
      "17\n",
      "42\n"
     ]
    }
   ],
   "source": [
    "a = 42 \n",
    "\n",
    "def reasonable():\n",
    "    print(a)\n",
    "\n",
    "def unreasonable():\n",
    "    a = 17\n",
    "    print(a)\n",
    "\n",
    "reasonable()\n",
    "unreasonable()\n",
    "print(a)"
   ]
  }
 ],
 "metadata": {
  "interpreter": {
   "hash": "916dbcbb3f70747c44a77c7bcd40155683ae19c65e1c03b4aa3499c5328201f1"
  },
  "kernelspec": {
   "display_name": "Python 3.8.10 64-bit",
   "language": "python",
   "name": "python3"
  },
  "language_info": {
   "codemirror_mode": {
    "name": "ipython",
    "version": 3
   },
   "file_extension": ".py",
   "mimetype": "text/x-python",
   "name": "python",
   "nbconvert_exporter": "python",
   "pygments_lexer": "ipython3",
   "version": "3.8.10"
  },
  "orig_nbformat": 4
 },
 "nbformat": 4,
 "nbformat_minor": 2
}
